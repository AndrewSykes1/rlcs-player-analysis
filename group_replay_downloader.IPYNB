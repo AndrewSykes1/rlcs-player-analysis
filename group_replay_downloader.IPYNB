{
 "cells": [
  {
   "cell_type": "code",
   "execution_count": 1,
   "metadata": {},
   "outputs": [],
   "source": [
    "from ballchaser.client import BallChaser\n",
    "import config\n",
    "import os\n",
    "import time"
   ]
  },
  {
   "cell_type": "code",
   "execution_count": 2,
   "metadata": {},
   "outputs": [],
   "source": [
    "ball_chaser = BallChaser(config.api_key)"
   ]
  },
  {
   "cell_type": "code",
   "execution_count": 3,
   "metadata": {},
   "outputs": [],
   "source": [
    "# Create a list containing the group id of every group in rlcs 2024\n",
    "# Check each id in said list to see if it has directly downloadable replays\n",
    "# Download each replay into a folder"
   ]
  },
  {
   "cell_type": "code",
   "execution_count": 7,
   "metadata": {},
   "outputs": [
    {
     "name": "stdout",
     "output_type": "stream",
     "text": [
      "3 1\n",
      "11 2\n",
      "19 3\n",
      "21 4\n",
      "24 5\n",
      "27 6\n",
      "30 7\n",
      "33 8\n",
      "36 9\n",
      "39 10\n",
      "42 11\n",
      "45 12\n",
      "48 13\n",
      "51 14\n",
      "54 15\n",
      "57 16\n",
      "60 17\n",
      "Short error init\n",
      "Short error pass\n",
      "63 18\n",
      "66 19\n",
      "70 20\n",
      "71 21\n",
      "Short error init\n",
      "Short error pass\n",
      "75 22\n",
      "78 23\n",
      "81 24\n",
      "84 25\n",
      "87 26\n",
      "Short error init\n",
      "Short error pass\n",
      "90 27\n",
      "92 28\n",
      "94 29\n",
      "96 30\n",
      "Short error init\n",
      "Short error pass\n",
      "99 31\n",
      "102 32\n",
      "105 33\n",
      "108 34\n",
      "Short error init\n",
      "Short error pass\n",
      "111 35\n",
      "114 36\n",
      "117 37\n",
      "120 38\n",
      "Short error init\n",
      "Short error pass\n",
      "123 39\n",
      "126 40\n",
      "129 41\n",
      "132 42\n",
      "Short error init\n",
      "Short error pass\n",
      "137 43\n",
      "140 44\n",
      "144 45\n",
      "148 46\n",
      "Short error init\n",
      "Short error pass\n",
      "152 47\n",
      "156 48\n",
      "159 49\n",
      "162 50\n",
      "Short error init\n",
      "Short error pass\n",
      "165 51\n",
      "167 52\n",
      "169 53\n",
      "172 54\n",
      "Short error init\n",
      "Short error pass\n",
      "175 55\n",
      "178 56\n",
      "181 57\n",
      "184 58\n",
      "Short error init\n",
      "Short error pass\n",
      "187 59\n",
      "190 60\n",
      "193 61\n",
      "196 62\n",
      "Short error init\n"
     ]
    }
   ],
   "source": [
    "group_id_list = ['rlcs-2024-jsvrszynst']\n",
    "ticker = 0\n",
    "\n",
    "for id in group_id_list:\n",
    "    ticker +=1\n",
    "\n",
    "    try:\n",
    "        time.sleep(2)\n",
    "        group = list(ball_chaser.list_groups(group_id = id))\n",
    "    except:\n",
    "        print('Short error init')\n",
    "        time.sleep(20)\n",
    "        try:\n",
    "            group = list(ball_chaser.list_groups(group_id = id))\n",
    "            print('Short error pass')\n",
    "        except:\n",
    "            print('=-'*20)\n",
    "            print(group_id_list)\n",
    "            print(id)\n",
    "            print('=-'*20)\n",
    "            break\n",
    "        \n",
    "    \n",
    "    if len(group) != 0:\n",
    "        for item in group:\n",
    "            group_id_list.append(item['id'])\n",
    "\n",
    "\n",
    "    print(len(group_id_list), ticker)"
   ]
  },
  {
   "cell_type": "code",
   "execution_count": null,
   "metadata": {},
   "outputs": [
    {
     "name": "stdout",
     "output_type": "stream",
     "text": [
      "['rlcs-2024-jsvrszynst', 'major-2-dm8bqwqj09', 'major-1-nuaen2ts44', '1-major-r3dlglogak', 'sub-saharan-africa-zuhk4yavc4', 'south-america-ea3smt6gp8', 'oceania-e29n83gl7m', 'north-america-0fhadi0mxj', 'middle-east-north-africa-8x6eyfuk3u', 'europe-ffubhwgs6u', 'asia-pacific-n1r2vc1jwd', '1-major-ry36ymd607', 'sub-saharan-africa-xfdfppkeh0', 'south-america-zknb4bmnzk', 'oceania-1r83557ub1', 'north-america-1otoubwqwh', 'middle-east-north-africa-juua41zp1o', 'europe-x7n1g9q6dv', 'asia-pacific-ruu3195ns5', 'lan-nu92kpr2hf', 'tiebreaker-j2xh8rhmtx', 'open-qualifier-6-ga2shlfile', 'open-qualifier-5-gxr7975b29', 'open-qualifier-4-0rvkagsfli', 'open-qualifier-6-xd4cfhk88b', 'open-qualifier-5-djza8pzf1z', 'open-qualifier-4-z6k2f1aalp', 'qualifier-6-s14ut1pqkp', 'qualifier-5-p7ndcg0dsy', 'qualifier-4-04bapbaq3b', 'open-qualifiers-3-4b5re6fw6x', 'open-qualifiers-2-fjqc8buhl7', 'open-qualifiers-1-akwl5mzd6d', 'open-qualifiers-3-ca5v97vi6n', 'open-qualifiers-2-9xnwahg5ft', 'open-qualifiers-1-l0sucxqjm2', 'open-qualifiers-3-kamuu6st71', 'open-qualifiers-2-oyxg2i0wjk', 'open-qualifiers-1-7m8hioh5z7', 'open-qualifiers-3-9jsiba042b', 'open-qualifiers-2-zjvlup50lc', 'open-qualifiers-1-ho3omkcavh', 'day-1-2-swiss-stage-nzlpcz2ong', 'day-4-single-elimination-stage-tjiaf7530b', 'day-3-single-elimination-stage-waevbpeyzm', 'open-qualifiers-3-nw9khjo657', 'open-qualifiers-2-zbag5198a8', 'open-qualifiers-1-nfhicv2v50', 'open-qualifiers-3-uvc5titgee', 'open-qualifiers-2-g17njvsemv', 'open-qualifiers-1-xe9r5t85qn', 'open-qualifiers-3-c932m97lyh', 'open-qualifiers-2-3o5hje89p0', 'open-qualifiers-1-azr96ynv59', 'open-qualifiers-3-qaojl8suji', 'open-qualifiers-2-aj3y5fbed2', 'open-qualifiers-1-wnk8pzehyw', 'open-qualifiers-3-cprnwjyfk6', 'open-qualifiers-2-vzluqs8m3p', 'open-qualifiers-1-wxx8q00307', 'open-qualifiers-3-gkvabos4ye', 'open-qualifiers-2-cnpdpihggb', 'open-qualifiers-1-xzmeyq116l', 'open-qualifiers-3-um05jzoxf2', 'open-qualifiers-2-9cdng4whr0', 'open-qualifiers-1-cdtoswno1b', 'day-3-playoffs-7ipdd5eejj', 'day-4-playoffs-d41qfsybdq', 'day-2-swiss-stage-zhs97kr9yr', 'day-1-swiss-stage-2p7r4lxnzu', 'og-vs-sr-q1325z370u', 'day-4-finals-vq0fif3ih2', 'day-4-single-elimination-1a9fz3hqfg', 'day-3-single-elimination-2qjvtg0p1k', 'day-2-swiss-stage-1qnd66enms', 'day-4-single-elimination-my1ql9zxr4', 'day-3-single-elimination-l8r8yz4yjm', 'day-2-swiss-stage-l3mvd4emnx', 'day-4-single-elimination-bkhatt3j21', 'day-3-single-elimination-ghvm0ftruk', 'day-2-swiss-stage-i88kdag3xu', 'day-5-single-elimination-stage-b99u3ga1n2', 'day-4-single-elimination-stage-jtsjskbg7p', 'day-3-swiss-stage-go8arv92et', 'day-5-single-elimination-stage-whwrbnoehf', 'day-4-single-elimination-stage-9xcyaaa73f', 'day-3-swiss-stage-xn3i91tswo', 'day-5-single-elimination-stage-n0chflal0d', 'day-4-single-elimination-stage-z50duakt83', 'day-3-swiss-stage-0o5d8yp6r8', 'single-elimination-27dgsue6ak', 'swiss-4irnhkj7xb', 'single-elim-vsomebja2w', 'swiss-zr99sj34yg', 'single-elim-fvr0kf3796', 'swiss-vqppqtrxpv', 'day-5-single-elimination-stage-h2rvk99b3e', 'day-4-single-elimination-stage-l5hu6td55g', 'day-3-swiss-stage-lp0p5u9yck', 'day-5-single-elimination-stage-jjlsjj5861', 'day-4-single-elimination-stage-m9cwcde8ln', 'day-3-swiss-stage-9zflxu0m11', 'day-5-single-elimination-stage-jbx2blhb16', 'day-4-single-elimination-stage-whtfp50arn', 'day-3-swiss-stage-73lr2whzva', 'day-5-single-elimination-stage-wt4gf075o7', 'day-4-single-elimination-stage-izfttaxae6', 'day-3-swiss-stage-6270y7245p', 'day-5-single-elimination-stage-sic8bu97n4', 'day-4-single-elimination-stage-uya77oip2g', 'day-3-swiss-stage-drfyfzzm6v', 'day-5-single-elimination-stage-mxixg801jo', 'day-4-single-elimination-stage-oi5rmhqv7w', 'day-3-swiss-stage-s54qzgrzhj', 'day-5-single-elimination-stage-n3o4y73di1', 'day-4-single-elimination-stage-ncazn0t5ji', 'day-3-swiss-stage-cueigfryw6', 'day-5-single-elimination-stage-tyviq8pk8s', 'day-4-single-elimination-stage-8erku53nhe', 'day-3-swiss-stage-updimpccxb', 'day-5-single-elimination-stage-qmsf38rl1g', 'day-4-single-elimination-stage-ujyg94a0v0', 'day-3-swiss-stage-vz7pzhhbnd', 'day-5-single-elimination-stage-hz7wepoqkj', 'day-4-single-elimination-stage-07ixj64ane', 'day-3-swiss-stage-iv31nzlp3i', 'day-5-single-elimination-stage-asfyby13j2', 'day-4-single-elimination-stage-3f2ovr4fwo', 'day-3-swiss-stage-f40cc5eou8', 'day-5-single-elimination-stage-21pz8r5f3o', 'day-4-single-elimination-stage-1tf0unn40j', 'day-3-swiss-stage-008atjvoym', 'round-5-lyk8ca0429', 'round-4-hgfr6uva31', 'round-3-l15b0w5r0d', 'round-2-0e0cx9cpmd', 'round-1-twaw5anuzf', 'gm8a-vs-g2-aqf5xy574u', 'gm8a-vs-kc-9zpzif4tph', 'vit-vs-g2-ip04cz93x4', 'bds-vs-g2-v7y8jw44rh', 'fur-vs-vit-ypwhczu175', 'kc-vs-flcn-jtmx9e46y3', 'gm8a-vs-ggm1-phmaeqwtpj', 'day-4-finals-5c7kv3yy7c', 'day-4-single-elimination-stage-c9i6pvi29p', 'day-3-single-elimination-325nxhzabb', 'day-2-swiss-stage-bvnua8cqa5', 'day-4-finals-rd2xz86d9u', 'day-4-double-elimination-tjoq4iylvg', 'day-3-double-elimination-87ru7k6zwu', 'day-2-swiss-stage-xpns1m2dzs', '16th-seed-tiebreaker-4f62x43tf0', 'day-5-single-elimination-stage-n2q3pov99y', 'day-4-single-elimination-stage-z3ssh2ivpk', 'day-3-swiss-stage-xa9qxgvoh5', 'day-5-single-elimination-stage-5xp99zlp6s', 'day-4-single-elimination-stage-ppvbcq5jpj', 'day-3-swiss-stage-6gm9f67xkb', 'day-5-single-elimination-stage-ohdmsbmys0', 'day-4-single-elimination-stage-iu7i6hn27q', 'day-3-swiss-stage-b01kpmgh9j', 'day-5-single-elimination-stage-ujrbtlif2i', 'day-4-single-elimination-stage-8qis3jyifn', 'day-3-swiss-stage-2h6yi0837c', 'single-elim-bracket-s0qwubnbya', 'swiss-stage-6x92yhv4av', 'single-elimination-bracket-5kt6ul7qdu', 'swiss-stage-xxu4illh7e', 'day-5-single-elimination-stage-2ic1l4rzas', 'day-4-single-elimination-stage-bj616qn01n', 'day-3-swiss-stage-p4828ph84f', 'day-5-single-elimination-stage-tmmc0840k9', 'day-4-single-elimination-stage-7q393q0983', 'day-3-swiss-stage-7drweh70t4', 'day-5-single-elimination-stage-fd5npm2f6a', 'day-4-single-elimination-stage-bm0q2yings', 'day-3-swiss-stage-v7jkzslxm7', 'day-5-single-elimination-stage-jtgxqllqdb', 'day-4-single-elimination-stage-rcnsp2pli3', 'day-3-swiss-stage-jytbzhl3jl', 'day-5-single-elimination-stage-gk690z664s', 'day-4-single-elimination-stage-73emuwt3jy', 'day-3-swiss-stage-lpkj3emjzt', 'day-5-single-elimination-stage-c2fwepplme', 'day-4-single-elimination-stage-9tlxvpdwn4', 'day-3-swiss-stage-ldjv8oydv1', 'day-5-single-elimination-stage-j52ify43kz', 'day-4-single-elimination-stage-qcroliqely', 'day-3-swiss-stage-3qhfi0fpth', 'day-5-single-elimination-stage-8i1v25mcm7', 'day-4-single-elimination-stage-k07jtf9idk', 'day-3-swiss-stage-jxo66ps9oj', 'day-5-single-elimination-stage-0m9vmse0x9', 'day-4-single-elimination-stage-m4brtf1xb8', 'day-3-swiss-stage-zch2n3tmzq', 'day-5-single-elimination-stage-yhcudhig33', 'day-4-single-elimination-stage-fzhqglc4rq', 'day-3-swiss-stage-4l511c4nfg', 'day-5-single-elimination-stage-34oxdbgn23', 'day-4-single-elimination-stage-szxoz7sxw9', 'day-3-swiss-stage-2bq1w3rft1', 'day-5-single-elimination-stage-v29j3ilzb0', 'day-4-single-elimination-stage-ogigzjf6eb', 'day-3-swiss-stage-u4xipxk4ke', 'day-5-single-elimination-stage-dkqb84cwp2', 'day-4-single-elimination-stage-i5mgyl83a0', 'day-3-swiss-stage-x3xl4rg6oq', 'gm8a-vs-bds-p8xxwgbhpm', 'flcn-vs-ggm1-kam7j9thfc', 'ssg-vs-g2-lquc18xfhe', 'vit-vs-fur-jy4496ngws', 'g2-vs-flcn-fdczzblp52', 'flcn-vs-gm8a-82p7p6b9r6', 'fur-vs-g2-l7kp2xk26j', 'round-5-r1ockctyry', 'round-4-z6f96jwljd', 'round-3-mhv7updwsf', 'round-2-rw5oh8tpwa', 'round-1-9nw3zoouyh', 'limitless-vs-team-mobula-d7a7yha8wx', 'limitless-vs-77blocks-i0nc6c9gd4', 'astronic-sq-vs-team-mobula-kmtv1qyqz1', '77blocks-vs-snakes-den-5s4llzpg9c', 'limitless-vs-only-phans-z8p5wtd5ty', 'astronic-sq-vs-9lies-jaj0xcr1km', 'team-mobula-vs-straskibidi-68h4gccctk', 'round-5-x3qcayfi4j', 'round-4-uo3ufc1d1q', 'round-3-7r18uyhfn6', 'round-2-gcq02tl0m0', 'round-1-01ilgbxe5j', 'finals-ifp3dpqvsw', 'semi-finals-8jz9tan9m6', 'quarter-finals-lhud42xern', 'round-5-l91oodk4k7', 'round-4-ivz5hkwsm3', 'round-3-3mxefdzj0c', 'round-2-7j5xnv28gx', 'round-1-yrqee3tsc5', 'grandfinals-f8wn2gsgxq', 'semifinals-zazk7kidq6', 'quarterfinals-6gsyw1pm9u', 'round-5-pk1t1wqkwo', 'round-4-s7inaf0g7p', 'round-3-ab2ditsqnq', 'round-2-mqjkd4zbp1', 'round-1-wachlqvl4b', 'team-secret-vs-erased-79rexceegl', 'team-secret-vs-hero-base-4hnr5uwi2r', 'furia-vs-erased-q8rrd5b8wa', 'team-secret-vs-kru-esports-d2fjsia4a7', 'complexity-vs-hero-base-t8gymcctzl', 'erased-vs-w7m-lru2t875uy', 'furia-vs-nip-0bqwdqffqi', 'round-5-99rhn1wi66', 'round-4-ks8nz7du4z', 'round-3-2l97kw79jh', 'round-2-d6dfimxvce', 'round-1-xeqot97a67', 'furia-vs-nip-tr5lglensb', 'team-secret-vs-nip-t1ku9963qn', 'furia-vs-kru-esports-f0lfyb5vja', 'team-secret-vs-w7m-sj074fi3fv', 'complexity-vs-nip-qjvfp06lwz', 'furia-vs-hero-base-fzj5eldrz0', 'luk-vs-kru-esports-chuuyrj358', 'round-5-dlmwwhw8vf', 'round-4-94aydmenmm', 'round-3-edgdcptbet', 'round-2-c2b5v7ugs1', 'round-1-wsu7h7692o', 'team-secret-vs-furia-mv3hsvhncw', 'complexity-vs-team-secret-2sv4ie1ux6', 'furia-vs-kru-esports-c1xwj2oe94', 'complexity-vs-nip-i7y9i8vyya', 'team-secret-vs-w7m-nasulsf9dm', 'hero-base-vs-kru-esports-obir3vcyi6', 'died-4-our-sins-vs-furia-csv6e4h638', 'round-5-b80faro8df', 'round-4-030uxa8531', 'round-3-yhcvy62xcr', 'round-2-tnueehsutb', 'round-1-3qahkasfbo', 'grand-final-3qve3m8kdr', 'semi-finals-0hrm43d6bp', 'quarter-finals-9y8o9c2c4k', 'round-5-8ly28m473h', 'round-4-ighcaphm2l', 'round-3-7udlyynyeo', 'round-2-c4ap2jg9eo', 'round-1-7w5h1k1jdl', 'g-chiefs-vs-pwr-2dn7i3rm4a', 'f-chiefs-vs-qt-pioneers-93zfswxz2s', 'e-kibb-gang-vs-pwr-6ytdm95x09', 'd-hsp-vs-quiktrip-pioneers-n9g3to6nof', 'c-chiefs-esc-vs-exo-clan-25cncw3sjt', 'b-ground-zero-vs-kibb-gang-lpi88182d7', 'a-gaming-gamers-vs-pwr-ebqvaw4no0', 'round-5-gon2i9zlkb', 'round-4-4ulu2ynzlx', 'round-3-uooi30pu0p', 'round-2-nb0pk9o1ms', 'round-1-somz7orm4i', 'g-pwr-vs-chiefs-esc-w70xkr73aa', 'f-pwr-vs-quiktrip-pioneers-ovqy6lxha8', 'e-chiefs-esc-vs-kibb-gang-adrxi0dy68', 'c-quiktrip-pioneers-vs-fiz6-gami-wltrj4w2k7', 'b-kibb-gang-vs-hsp-tcncuo8zy4', 'a-chiefs-esc-vs-gremlins-gfsy8fwz58', 'd-pwr-vs-ground-zero-gaming-obl3wlqsws', 'round-5-wctao8tou5', 'round-4-ojixl3ae0s', 'round-3-3jduigd2la', 'round-2-82wlld5528', 'round-1-h10egoa0ek', 'g2-vs-sr-iw0fm8x4eh', 'g2-vs-og-77py7ayr98', 'sr-vs-mst-jgm53xopom', 'ggm1-vs-mst-ixpsj7avl7', 'sr-vs-lg-qo68bydd02', 'ssg-vs-og-yltc87h0kh', 'g2-vs-dig-b405l05oar', 'round-5-dwhs473sir', 'round-4-wx3ima6bgz', 'round-3-nlo8zavmta', 'round-2-8x7ampdmz8', 'round-1-02xbpd4civ', 'ssg-vs-g2-14lfom9ohq', 'c9-vs-g2-iqlcw85fsc', 'ssg-vs-og-kfww7byjr6', 'g2-vs-sr-xz44r8q57l', 'm80-vs-c9-z0abcfbkes', 'ggm1-vs-og-zv94t17drf', 'ssg-vs-dig-b33uhuhb89', 'round-5-8xg7sulos0', 'round-4-bbi7jtlrvm', 'round-3-x7vvxx3i2e', 'round-2-pxone26fbm', 'round-1-e36012ltnz', 'g2-vs-ggm1-71lqnbopkd', 'g2-vs-ssg-usq8e5155m', 'ggm1-vs-snow-53u9ydlprg', 'sr-vs-ggm1-aucyu75206', 'snow-vs-c9-69f52dn15e', 'og-vs-ssg-tkuis6kf3f', 'g2-vs-m80-y2cnblak8s', 'round-5-1b1l0rd212', 'round-4-x83yfmhxfb', 'round-3-tvwbihz7l9', 'round-2-76owfsgwdg', 'round-1-umbjko4i5b', 'any-vs-flcn-nzzst0v3th', 'flcn-vs-twis-auugaz9bex', 'any-vs-roc-j85dvmzv2w', 'atl-vs-flcn-mwrx0aryhx', 'esp-vs-twis-a4m7im26yb', 'rge-vs-roc-5xuci3ixhl', 'any-vs-bvd-q0w641ylyh', 'round-5-htn3fa6cf1', 'round-4-jyifntdmyy', 'round-3-6g3zn3m2l2', 'round-2-50686p71ek', 'round-1-5s5jch3ls5', 'flcn-vs-twis-b77ltxaa0s', 'any-vs-flcn-e17fizflhi', 'r8-vs-twis-qcwefd2m5v', 'any-vs-roc-4wb63c5y4l', 'flcn-vs-vsn-k7shhekvrl', 'bvd-vs-twis-l160bhbffr', 'esp-vs-r8-urptplvdcr', 'round-5-k54440n72g', 'round-4-5rpsnv78e3', 'round-3-zazihi4920', 'round-2-wozav8ypre', 'round-1-9tik1jkk17', 'flcn-vs-twis-r8fgulv539', 'roc-vs-twis-ttmgms7cd7', 'flcn-vs-r8-4cf3pdj21e', 'bvd-vs-roc-9i3d029ygx', 'flcn-vs-slep-ynez48ai17', 'oreo-vs-twis-k2gfe8fn8t', 'r1-vs-r8-gon8d3rlau', 'round-5-ubzhfemvve', 'round-4-ccc8y2cqgp', 'round-3-cw3l385ait', 'round-2-cwa9j2upe4', 'round-1-reyzgy10m6', 'bds-vs-lxg-ulhqg178e0', 'job-vs-lxg-m218eannry', 'bds-vs-kc-55ysdv19ln', 'lxg-vs-gm8a-ywfv4pymf0', 'vit-vs-job-xaz3hid7i9', 'kc-vs-oxg-wh299h99di', 'bds-vs-end-fi2o2z05dv', 'round-5-h3xitgjxab', 'round-4-b6minq0h6m', 'round-3-edpwnifrzk', 'round-2-nxuvbb1vgl', 'round-1-09ivm3cm75', 'oxg-vs-bds-8uk5qyr0wi', 'oxg-vs-gm8a-uqvbkskww8', 'vit-vs-bds-otopwh0ffo', 't3-vs-bds-s25f3yy79n', 'vit-vs-grsv-ik3z915jm2', 'gm8a-vs-job-i8m6umiem5', 'oxg-vs-cgr-o1ij1wxn27', 'round-5-orrmvkgl9e', 'round-4-4wslgcb0nx', 'round-3-xw24r4p1k6', 'round-2-d7jvoy1xcz', 'round-1-cjwku3uydi', 'gm8a-vs-vit-vz17zoipi1', 'grsv-vs-vit-nqxjp6aj9q', 'oxg-vs-gm8a-9syg6niunr', 'vit-vs-job-v9zndirs5c', 'bds-vs-grsv-0aol750ll9', 'gm8a-vs-lg-9fmgyluc6i', 'kc-vs-oxg-f03du2n5zv', 'round-5-jgnlt9i8sn', 'round-4-44kdubga5h', 'round-3-rgibss6a47', 'round-2-gsddvsibwu', 'round-1-yr3vwvnepx', 'gg-vs-elv-jxalghaubj', 'se-vs-gg-5sf9vmdrjk', 'dtn-vs-elv-7c3yht3hja', 'se-vs-dtl-2jyuasi998', 'gg-vs-n55-1z6avprjby', 'oe-vs-dtn-v3ysn7nkpd', 'sen-vs-elv-iu9fhbc8nf', 'round-5-7vyr7hux4z', 'round-4-ekf8duxje2', 'round-3-7jtqzo3xt5', 'round-2-zv2kpoawjw', 'round-1-8lxrhsx1ms', 'fish-vs-gg-y1fypfzl1u', 'elv-vs-se-bap8joglx3', 'elv-vs-gg-6l4m239jta', 'fish-vs-shbr-prrrxpujie', 'dtl-vs-gg-foror2nd89', 'n55-vs-se-bd95rgg58m', 'dtn-vs-elv-1969uzexug', 'round-5-x6rv2pj127', 'round-4-5bp3lkw469', 'round-3-48rtiefvj0', 'round-2-6ysnzd90d3', 'round-1-u8j48bw9jk', 'gg-vs-elv-wueov1c793', 'se-vs-gg-z04eb6p982', 'fish-vs-elv-tfdp6rd9uc', 'oe-vs-fish-yf05jdevvm', 'se-vs-dtn-01ph2ge3ai', 'gg-vs-n55-v0p3sshyyh', 'round-5-cij20h80a9', 'round-4-4vo20i12ys', 'round-3-urrcawry2w', 'round-2-b3wbtpzhmm', 'round-1-87ccgynsvt', 'vit-vs-lg-hciipnuj97', 'g2-vs-pwr-rqzn2ips6p', 'ggm1-vs-col-ruh5j731kw', 'pwr-vs-r1-zrg4pfjhdr', 'og-vs-lg-ikp0efrf2l', 'col-vs-qtpg-2vurow24h8', 'g2-vs-bds-lun4sq9pzg', 'flcn-vs-vit-6uv8ml8c2z', 'ggm1-vs-kc-p7hnb1vqpi', 'g2-vs-r1-sk9tvgkbpx', 'elv-vs-qtpg-d2yt2q0idh', 'lg-vs-lmt-kmfjg568uz', 'kc-vs-col-myn7s39oz2', 'vit-vs-og-qp7enkbq8z', 'bds-vs-pwr-5y0lzuujas', 'gm8a-vs-flcn-vh176zayx1', 'fur-vs-ggm1-xqldkcwvnq', 'col-vs-lg-j6xy31wj1l', 'pwr-vs-qtpg-or4l6oreb8', 'r1-vs-elv-wzmkzx2h58', 'og-vs-lmt-bl0ry0pfv2', 'fur-vs-vit-jtxhqzsrxe', 'g2-vs-ggm1-06d4jn2ypj', 'bds-vs-gm8a-xjwela6mxb', 'kc-vs-flcn-ufvvv9jcka', 'ggm1-vs-pwr-97s0jbpngn', 'vit-vs-col-rf46tp7kv5', 'g2-vs-qtp-0hfrv0vkvg', 'flcn-vs-og-009x9v4alh', 'bds-vs-elv-t11lrnk4f7', 'kc-vs-lmt-f0f5ycm7q7', 'gm8a-vs-r1-rfoecv00d0', 'lg-vs-fur-qsj2hrsgkh', 'limitless-vs-bonjour-3yq1wvmn8z', 'nxt-aqua-vs-astronic-0w3qsedcb2', 'bonjour-vs-schmongolia-49ba0565xr', 'astronics-vs-77block-4xsuto6t49', 'nxt-aqua-vs-owned-esports-v57ko5rjai', 'round-5-mjobzanle5', 'round-4-okkj2eultk', 'round-3-zbuz3zgmy1', 'round-2-zcra67x0xu', 'round-1-fmzmpsk3w4', 'limitless-vs-shmongolia-rjck5ki2p3', 'ymc-vs-drift-queens-wbh5mvnuyl', 'drift-queens-vs-bonjour-n9u6nhits7', 'young-money-clan-vs-77blocks-id3zxs67zv', 'straskibidi-vs-schmongolio-agy24pjbg9', 'limitless-vs-firehawks-wnm3qq1dmu', 'round-5-nmgrr31t1z', 'round-4-9r8gv7drq1', 'round-3-iupmg9i8tr', 'round-2-lviyeeqb1s', 'round-1-jnv68ert5n', 'final-o5359zd8m3', 'semi-final-suacmp8b83', 'round-1-3ekp9mbt28', 'finals-jqt5vg7ff3', 'semifinals-l1xtw4t8dz', 'quarterfinals-45bmzqwfu2', 'round-5-1gxwnhk7h5', 'round-4-hpkdrd3vnq', 'round-3-znb1zj1e47', 'round-2-fucj5msyrj', 'round-1-t603qo4vd9', 'furia-vs-complexity-tueghiyusp', 'hero-base-vs-complexity-nlk4tmnlqx', 'furia-vs-nip-9tyzs0kjya', 'complexity-vs-w7m-qy6o82jduq', 'hero-base-vs-not-exposed-md8f41wqw7', 'nip-vs-malados-forw7l3cgv', 'furia-vs-team-secret-box8iiykrp', 'round-5-568nk1jrrt', 'round-4-c9sp2vcwm2', 'round-3-qvoj5omoju', 'round-2-vimjaj3w9n', 'round-1-s1zs82x9vh', 'furia-vs-nip-jhn6rlt8e6', 'w7m-vs-nip-mw1he4ryci', 'furia-vs-complexity-r7uah82m3q', 'malados-vs-nip-sc2hnoi5wd', 'complexity-vs-team-secret-z70cfabowq', 'w7m-vs-gamerlegion-7k32dqlly3', 'furia-vs-tn-1ae7w8yoao', 'round-5-3z62w51yex', 'round-4-h0j3qfjv3l', 'round-3-ze6ujnvegy', 'round-2-fgpd54o7xa', 'round-1-yk58o45cq3', 'complexity-vs-furia-h1tl1ddnav', 'furia-vs-nip-ciye4sijof', 'kru-esports-vs-complexity-so1q1jvry1', 'nip-vs-bbs-p188y94o5q', 'furia-vs-team-secret-rgeby1xtsg', 'shaman-vs-complexity-fsgt9tax2b', 'kru-esports-vs-hero-base-l3v2fshat9', 'round-5-9i0splnf3f', 'round-4-6wcq6zjm9m', 'round-3-cyphqgw2wb', 'round-2-24b9in10l5', 'round-1-zhwpu1v2ks', 'grand-final-y06albbyud', 'semi-finals-x0btehx8uc', 'quarter-finals-a4zz8c6lc0', 'round-5-2iu4uvnucq', 'round-4-dw7ern5vn5', 'round-3-g91sbgiq3h', 'round-2-zc5ui59a8v', 'round-1-ka75rwqvdb', 'g-pwr-vs-chiefs-esc-y07fpftbng', 'f-chiefs-esc-vs-gremlins-9czk5uaro9', 'e-pwr-vs-ground-zero-j63zzzh8nu', 'd-kaka-s-minions-vs-gremlins-axeezfonk0', 'c-quiktrip-pioneers-vs-chiefs-es-1pvzvhksde', 'b-tiki-taka-vs-gound-zero-gv1mnz5pzw', 'a-pwr-vs-shooting-fe1dv53eli', 'round-5-yvvcvq1efe', 'round-4-z2fz3pc6rl', 'round-3-agflzt51aq', 'round-2-it8rxd74o7', 'round-1-i35obni7aa', 'gf-quiktrip-pioneers-vs-pwr-ijm42bsngn', 'sf-kaka-s-minions-vs-quiktrip-pi-lqehx6aigc', 'sf-pwr-vs-gremlins-eezesua2ef', 'qf-chiefs-esc-vs-gremlins-zycv0pl5i3', 'qf-pwr-vs-long-red-cordial-6kr0n79lwm', 'qf-ground-zero-vs-quiktrip-pione-a2fdloiwqe', 'qf-kaka-s-minions-vs-tiki-taka-ajt94w032x', 'round-5-9ryxko7on0', 'round-4-rj31btfm1x', 'round-3-zz12lj48ha', 'round-2-agqm562i2h', 'round-1-o8ra549lf6', 'g2-vs-ggm1-o0sfv8l7ml', 'ggm1-vs-og-nholt18k6a', 'tsm-vs-g2-8hyhycdbh5', 'og-vs-lg-n0o0rdp5lz', 'ggm1-vs-ssg-wbhpdgxk5d', 'g2-vs-omlt-kjm0nm0t9u', 'tsm-vs-m80-ellj86sf5w', 'round-5-xd1i2dmuwz', 'round-4-2s3qthf979', 'round-3-wz1lky4bea', 'round-2-txrexcrrqz', 'round-1-hgrj67rvlx', 'g2-vs-lg-c7vpi462dw', 'g2-vs-ggm1-a8cmod00nd', 'og-vs-lg-pvtr4h9f1q', 'nrg-vs-lg-9w9jgv8mpz', 'm80-vs-og-vohit6wr3q', 'ggm1-vs-ssg-ncoqanaiy6', 'g2-vs-poab-3n0gupe0v8', 'round-5-c2lq7kdlr1', 'round-4-up2bvcglj9', 'round-3-vff30ugjcq', 'round-2-f6flabzp9j', 'round-1-u74mtuj3qj', 'ggm1-vs-g2-gn2fma2twt', 'sr-vs-ggm1-ejghzh2ca2', 'g2-vs-dig-cl1516uuh5', 'dig-vs-poab-3qfrzyl4b0', 'g2-vs-lg-vwejzt8xh4', 'ggm1-vs-ssg-ux7e8f8mi4', 'm80-vs-sr-fgksgxbps4', 'round-5-2kz1bqbirg', 'round-4-ngx3hg9xb1', 'round-3-mhkm6gqw2x', 'round-2-qhzpxhls16', 'round-1-rvlycwn5ma', 'flcn-vs-r1-7lmd7alfff', 'bvd-vs-flcn-975nm0goah', 'r1-vs-twis-clf7bnbalx', 'flcn-vs-vsn-br56mr7ckj', 'bvd-vs-roc-kpajrrsus8', 'drg-vs-twis-m5seuv1pov', 'r1-vs-r8-sbnal0alua', 'round-5-8xyp0ox4l6', 'round-4-f7gz8ldnbe', 'round-3-xcl41gzb0a', 'round-2-jfpseapcvv', 'round-1-rcy61rauu6', 'flcn-vs-r1-v7aro46dso', 'flcn-vs-twis-j4mzmdl3ri', '5h-vs-r1-lgx3mcfi2q', 'flcn-vs-wawa-l5acwak15p', 'inf-vs-twis-vks6sweie2', 'fear-vs-r1-x1ir5z09k9', '5h-vs-nles-qiphnc5lss', 'round-5-4f62fofgun', 'round-4-sigapqm8a0', 'round-3-9nau16g9db', 'round-2-2mjl0u7h24', 'round-1-j6gjup25aj', 'flcn-vs-r1-juxad2rb64', 'inf-vs-r1-r9sb3zdx0y', 'fear-vs-flcn-10df72uat3', '5h-vs-fear-3a032035uj', 'flcn-vs-wawa-hhkd308zcr', 'inf-vs-twis-624t7o83ws', 'ex-vs-r1-f5q1sgbg3j', 'round-5-6yz8ywxvk3', 'round-4-xxvuj77b84', 'round-3-fvso2mcgk0', 'round-2-45dsms7nb5', 'round-1-gr7dbps0v8', 'vit-vs-kc-xk65vopwcc', 'vit-vs-mst-8jln9agudo', 'kc-vs-bds-i80wusoz9m', 'gm8a-vs-bds-3fei9ongc3', 'kc-vs-mgn-888py1neg9', 'red-vs-mst-8sohjrd5gg', 'vit-vs-oxg-bhru69gexe', 'round-5-zwi88a036g', 'round-4-d1rq5u21hc', 'round-3-qwug747i42', 'round-2-6cnkt7oc39', 'round-1-tzsncqyfhl', 'bds-vs-kc-cncudj4g2h', 'kc-vs-mgn-vwg7z73ll4', 'bds-vs-oxg-59ug3uycmd', 'suh-vs-mgn-e7pd6lair8', 'kc-vs-vit-f6sqv3oeg6', 'oxg-vs-red-hlqfsl97pu', 'bds-vs-gm8a-of7gmc88bf', 'round-5-ov574lhzr6', 'round-4-uylq5y4df4', 'round-3-6uhprkov7r', 'round-2-7r1hzurnc6', 'round-1-gavzkwk80y', 'kc-vs-gma-4b98ocs5se', 'gma-vs-vit-nlmqh423vl', 'kc-vs-bds-wct8frn8nu', 'vit-vs-mst-wgjo9ardao', 'gma-vs-t3-df4n73iijc', 'mgn-vs-bds-60yved3laf', 'kc-vs-end-uxc0gkxh9q', 'round-5-xwavytl8ib', 'round-4-czs3kla1dw', 'round-3-mmju9xpr7t', 'round-2-ykry31skpl', 'round-1-py1mvxinzz', 'grandfinals-a61ti0pz0f', 'semifinals-n9skhlkbkm', 'quarterfinals-bftlpoqahm', 'round-5-xjccwyoga5', 'round-4-06nz32yr1j', 'round-3-n3c0kxywks', 'round-2-m65a4ghox5', 'round-1-5z9prs5665', 'grandfinals-be62x9qra1', 'semifinals-7g0j6m7lq3', 'quarterfinals-4bhaq324et', 'round-5-szy5haxhd4', 'round-4-q7x3eyvwot', 'round-3-iupo90m9g9', 'round-2-ycr23casbh', 'round-1-nupb1mzkfp', 'grand-finals-zle3wqdc4b', 'semi-finals-b3hp1p4m8i', 'quarterfinals-3dtou674ji', 'round-5-48nf8s6sqk', 'round-4-zwxz60jpeo', 'round-3-p2adfocz87', 'round-2-yzhd9cdvvb', 'round-1-u8tdszlbe1', 'ggm1-vs-pwr-h94flhz8hf', 'fur-vs-oxg-tovpybdxop', 'bds-vs-ts-cu5hmeydmn', 'oxg-vs-twis-9ambnlpbjf', 'pwr-vs-gla-n6hjr2lwnz', 'ts-vs-og-u5vuuukzp6', 'g2-vs-ggm1-fxb4w9tkr7', 'fur-vs-ssg-gtxzortaq1', 'bds-vs-gm8a-i2vycecarh', 'twis-vs-mob-59gbyo121m', 'chf-vs-gla-zfg0fsg361', 'bds-vs-og-q7b6vxgwgv', 'gm8a-vs-ts-t3wtumq6ok', 'pwr-vs-ssg-d4f0o5g6jr', 'ggm1-vs-oxg-ciw490xpmh', 'vit-vs-fur-xrnmz854ws', 'g2-vs-flcn-392tyssf45', 'ssg-vs-mob-dlxlr77q4g', 'og-vs-twis-hppce2brxm', 'vit-vs-ggm1-xam1pghlom', 'gm8a-vs-fur-b90yza2pja', 'g2-vs-pwr-ry2s9ed1td', 'bds-vs-flcn-g1gp1yvk85', 'ts-vs-chf-fvsewg7at7', 'oxg-vs-gla-88spoeftbf', 'gm8a-vs-twis-ivg8k8qn4n', 'flcn-vs-ssg-uzr30rsveb', 'vit-vs-chf-1qbl1si1qr', 'fur-vs-og-aoiebyhf6u', 'g2-vs-gla-5aajn4vo9z', 'ggm1-vs-ts-5rpauayoyu', 'bds-vs-mob-tn92n6sl04', 'oxg-vs-pwr-fbyvhn4zrg', 'only-phans-vs-nixuh-nry8xrfp6v', 'snake-den-vs-genesix-9sf27mk9vl', 'bird-vs-straskibidi-yhzourfyj9', 'btf-esports-vs-straskibidi-ljngz4scwd', 'snakes-den-vs-driftqueens-20vbzb9ibh', 'nixuh-vs-2-3rds-rule-q5xvq9gqtk', 'astronic-sq-vs-only-phans-5if5rse6gr', '9lies-vs-bird-onz39h0i4c', '77blocks-vs-genesix-hlb12pqkpt', 'punishers-vs-2-3rds-rule-4cf7bbr2b1', 'snakes-den-vs-monarch-rf9ohc4jd0', 'btf-esports-vs-only-phans-04wi3t6qa0', 'bird-vs-nixuh-s1dewj4sf7', 'genesix-vs-driftqueens-098qh9n3d4', 'astronic-sq-vs-straskibidi-y6gk8u8sep', 'limitless-vs-77blocks-akyrug2f5j', 'team-mobula-vs-9lies-g1galy5zzu', 'driftqueens-vs-2-3rds-rule-78e8h6utsc', 'punishers-vs-nixuh-o59vpva97k', 'btf-esports-vs-monarch-oxq79uxc6d', 'snakes-den-vs-straskibidi-9xowlgw4d3', 'limitless-vs-astronic-sq-n7h605audf', '77blocks-vs-bird-o2cqxlkzp5', '9lies-vs-genesix-oo9rkeenud', 'team-mobula-vs-only-phans-gdjh5hdp74', 'bird-vs-punishers-cgypva20tj', 'btf-esports-vs-genesix-yzxwc2j0g1', 'snakes-den-vs-only-phans-m3re5cswju', '77blocks-vs-nixuh-9zda169dsz', '9lies-vs-monarch-9lh8xdasq9', 'team-mobula-vs-straskibidi-k0rh8f3rhv', 'astronic-sq-vs-driftqueens-acfthyimfn', 'limitless-vs-2-3rds-rule-hxcfcdxtvg', 'limitless-vs-team-mobula-vpxc2lgj78', 'limitless-vs-astronic-sq-dxinbn472j', 'team-mobula-vs-snakes-den-hkxkzbjy4l', 'astronic-sq-vs-77blocks-r28r7mxbmf', 'elites-vs-snakes-den-4dm9ieidp4', 'team-mobula-vs-goats-6n0enb76mn', 'limitless-vs-9lies-88zj08tutu', 'world-of-tanks-vs-goats-c7ouufioju', '77blocks-vs-driftqueens-x16crc4cbt', '9lies-vs-tri-fecta-8e98433lg6', 'tri-fecta-vs-only-phans-t30ozwsxjz', '104-anni-vs-goats-s8h75tcfxg', 'driftqueens-vs-nigel-s-lighties-vwn1e8356o', '9lies-vs-elites-u2437ryr7a', 'snakes-den-vs-world-of-tanks-6hye1lgr4s', 'limitless-vs-77blocks-kfmqv3jr9j', 'nixuh-vs-nigel-s-lighties-6y4mzjmmdk', 'bird-vs-goats-rhl4quh9sz', 'world-of-tanks-vs-driftqueens-vlghdhbpuv', '77blocks-vs-tri-fecta-q4j62my0ia', 'elites-vs-104-anni-rn5q858hox', '9lies-vs-only-phans-3w8dddj8l2', 'team-mobula-vs-snakes-den-50nedm7iou', 'limitless-vs-astronic-sq-5faflb4rua', 'goats-vs-driftqueens-onkvk2epvi', 'bird-vs-only-phans-z8jfexa3wv', '104-anni-vs-nixuh-joejb8uwht', 'tri-fecta-vs-nigel-s-lighties-qpp6his3ku', 'astronic-sq-vs-9lies-jslagrcia4', 'elites-vs-snakes-den-55xecrdhxh', 'team-mobula-vs-77blocks-zd3yztgv2m', 'limitless-vs-world-of-tanks-rce6wslrqn', 'world-of-tanks-vs-tri-fecta-9njpcp3niy', 'snakes-den-vs-bird-ffn1lx5cki', '77blocks-vs-104anni-rxtvdo8cr1', 'the-elites-vs-onlyphans-ev58nonxb3', 'team-mobula-vs-nixuh-qxm3y4ih73', '9lies-esports-vs-unknown-goats-jwxdbgwsnb', 'astronic-skillquest-vs-drift-que-ma0akixgbr', 'limitless-vs-nigels-lighties-rvheqjtwmy', 'astronics-vs-team-mobula-7lvdqh5sgw', 'driftqueens-vs-team-mobula-y1x3qogqpb', 'astronic-vs-the-goats-ly45neibpm', 'limitless-vs-drift-queens-ct2lfhz2e0', 'straskibidi-vs-team-mobula-23n07oi2kc', 'unknown-goats-vs-snakes-den-5jtcouqmvx', 'astronic-skillquest-vs-reverse-o-bnz4o883g3', 'straskibidi-vs-genesix-rv69bnym3v', 'driftqueens-vs-elites-q95ey8ftqx', '9lies-vs-oreo-vpkz40opck', 'tri-fecta-vs-oreo-zuzbqoht53', 'straskibidi-vs-vendetta-s6k2s5b01p', 'driftqueens-vs-wrg-80dw3wnv00', 'limitless-vs-9lies-ox6nmk1z81', 'elites-vs-snakes-den-y0sy49anla', 'the-goats-vs-genesix-nbaczqbhcy', 'wrg-vs-bird-y004nszzgp', 'vendetta-vs-stm-4s86aje3n5', 'limitless-vs-tri-fecta-58s716mxsh', '9lies-vs-straskibidi-xfylqolxlk', 'elites-vs-oreo-e1l4q8iaop', 'driftqueens-vs-genesix-qiqp658qal', 'the-goats-vs-team-mobula-91dj8a3her', 'astronic-vs-snakes-den-y35c6ac8q3', 'limitless-vs-bird-iw900an3f2', 'vendetta-vs-oreo-vgo0g4u5az', 'wrg-vs-genesix-e185g3bwop', 'straskibidi-vs-stm-l15h0p8msl', '9lies-vs-team-mobula-1w3ps2ijw6', 'driftqueens-vs-snakes-den-1mjwqu71fy', 'elites-vs-the-goats-n9x39c8f73', 'astronic-vs-tri-fecta-0igm0a6hbk', 'vendetta-vs-snakes-den-v9d7vm71le', 'straskibidi-vs-tri-fecta-i8a37tuwwj', 'the-goats-vs-wrg-xye335qh20', 'elites-vs-genesix-aqg1uexhwf', 'driftqueens-vs-oreo-76wdhc6lai', '9lies-vs-bird-sn3nugg1o9', 'astronic-vs-stm-f4n28wcdwm', 'limitless-vs-team-mobula-yzpj3j5pz3', 'nex-vs-hero-base-aiyu416uir', 'gamerlegion-vs-nip-x98dqtu44d', 'exile-vs-kru-esports-jia1hcxlww', 'erased-vs-kru-esports-1276e3v0ly', 'nex-vs-w7m-hmnw9jkv9q', 'team-secret-vs-nip-4ga3l6e70a', 'mazus-vs-hero-base-cyqnf2uzpx', 'gamerlegion-vs-atypical-x9hde5ij0h', 'exile-vs-timeless-52j444ufeo', 'atypical-vs-luk-bdmoos41bf', 'mazus-vs-barca-czi8u1e7x9', 'team-secret-vs-hero-base-dla2pb2er8', 'exile-vs-nip-lytvk0qrs2', 'erased-vs-timeless-t992n5vrca', 'gamerlegion-vs-nex-jo4vuer6fk', 'complexity-vs-w7m-1trogbqg4z', 'furia-vs-kru-esports-dj256jod80', 'exile-vs-barca-m8ps1auvi5', 'atypical-vs-hero-base-mypxlk287i', 'luk-vs-timeless-s6qc84dc2d', 'gamerlegion-vs-mazus-5d7lh245ce', 'team-secret-vs-kru-esports-4mhrfilyyo', 'nip-vs-w7m-mty1rpu9by', 'complexity-vs-nex-xx63kb1o3c', 'furia-vs-erased-mlykmr5c9r', 'gamerlegion-vs-erased-1g2cxuadx8', 'not-exposed-vs-luk-esports-6i3i87om3z', 'hero-base-vs-w7m-7tnpgcfe93', 'kru-vs-barcelona-gii0newvf2', 'team-secret-vs-exile-8jcu9vczw8', 'nip-vs-atypical-k9evc4p5rx', 'complexity-vs-timeless-l7w596hsmm', 'furia-vs-mazus-gg4juk7r3g', 'complexity-vs-nex-u7s1yn3xq2', 'tn-vs-w7m-3u3zqdduyi', 'luk-vs-criancas-cgaml9kby3', 'criancas-vs-hero-base-0rxuyq6z07', 'furia-vs-tn-ie6d6mikib', 'complexity-vs-team-secret-33e7j9ddic', 'nex-vs-red-5ybfmx3cf4', 'gamerlegion-vs-w7m-jbw1gcqq5h', 'barca-vs-luk-410pkjpqiv', 'erased-vs-red-samj384lw7', 'exile-vs-w7m-8zd26fnyh1', 'nex-vs-criancas-g1epcuw5so', 'gamerlegion-vs-furia-kmgdzeqyzd', 'team-secret-vs-barca-y12exgjuc1', 'complexity-vs-luk-kfw2r8kstm', 'nip-vs-hero-base-aku7wti2fm', 'tn-vs-kru-esports-xhbiu0w524', 'barca-vs-w7m-gjyzseiopf', 'erased-vs-luk-mpvxisiys0', 'criancas-vs-red-71cl4j2yya', 'gamerlegion-vs-exile-4wdysq9wzo', 'team-secret-vs-hero-base-q0cbu7doul', 'nex-vs-kru-esports-89dv2ff0v9', 'furia-vs-nip-a55mzni17u', 'complexity-vs-tn-u02avpm7ky', 'true-neutral-vs-gamerlegion-8da1gv9pzc', 'not-exposed-vs-erased-wpfj9c1fie', 'hero-base-vs-barcelona-sz5n7q1fem', 'kru-vs-luk-esports-hml04eawnz', 'team-secret-vs-w7m-lgg5mn6mvb', 'nip-vs-red-albalt0uqh', 'complexity-vs-exile-6nndn7pw1p', 'furia-vs-criancas-tlk6kcl025', 'nex-vs-w7m-1xuoj5q4pt', 'died-4-our-sins-vs-erased-u8lu6svzsu', 'luk-vs-nip-twqalcriq2', 'luk-vs-barca-1oebktbkrp', 'timeless-vs-w7m-11pu31j0c7', 'died-4-our-sins-vs-red-o5iqdnnmqd', 'erased-vs-hero-base-h9zpspabl3', 'complexity-vs-nex-u1ojsjyk5r', 'nip-vs-kru-esports-xlwr20uxvn', 'kru-esports-vs-w7m-stsc4uoflx', 'gamerlegion-vs-luk-ngsuyfz57c', 'normais-vs-red-g5gdk8vzot', 'timeless-vs-erased-9cweqdq82e', 'nex-vs-died-4-our-sins-fg1s1lruso', 'barca-vs-hero-base-m4g74giqat', 'team-secret-vs-nip-h3hfmield3', 'complexity-vs-furia-l5x1umqas4', 'luk-vs-w7m-77xz1t9xtl', 'gamerlegion-vs-timeless-4u7zp3yncv', 'normais-vs-nex-fcvnqxt75q', 'barca-vs-red-50dexl6z3o', 'team-secret-vs-hero-base-6lupit5752', 'died-4-our-sins-vs-nip-86mmqo3ouy', 'complexity-vs-erased-dsz15pkzhr', 'furia-vs-kru-esports-ta0hdc6uhg', 'gamerlegion-vs-died-4-k6ldcpbg7a', 'erased-vs-not-exposed-27u4ecxfwk', 'barcelona-vs-kru-awh8kvrx9t', 'luk-esports-vs-team-secret-rs4kuou38o', 'hero-base-vs-w7m-w9ip52vg8w', 'timeless-vs-nip-zmovmzpq8p', 'complexity-vs-normais-03553s7956', 'furia-vs-red-j4i2774y54', 'pwr-vs-qtpg-4pomug460l', 'ground-zero-vs-pwr-9er9y7tfxy', 'chiefs-vs-qt-pioneers-u566i54p3w', 'hsp-vs-pwr-047q15pu4i', 'ground-zero-vs-gremlins-jec02kjbjo', 'rps-scythe-vs-qt-pioneers-6jhr92bzvn', 'chiefs-esc-vs-kibb-gang-w0zjc01awj', 'dig-vs-m80-ezd5a2z7nj', 'lg-vs-c9-pb1k7z6h58', 'mst-vs-nrg-nq25ie3vfe', 'snow-vs-c9-kt7wfarsqy', 'm80-vs-gbf-615osjyppb', 'nrg-vs-inct-4d5ptvuwjx', 'ggm1-vs-mst-54pdr1ps9l', 'og-vs-lg-9imzka2x2z', 'ssg-vs-dig-xumhlida28', 'lg-vs-m80-h4g5jx626v', 'mst-vs-snow-5c2kyxr64e', 'dig-vs-nrg-v53hgg0zir', 'ggm1-vs-c9-dke6is7jq6', 'ssg-vs-sr-63fqj5dx7w', 'og-vs-g2-5nqcim4shi', 'sp8-vs-gbf-ccg9buihwr', 'z2o-vs-inct-ytqiqzsscz', 'nrg-vs-sp8-pz0iqj92dy', 'c9-vs-z2o-zvobi0vyrc', 'snow-vs-gbf-tpf0xjlgdh', 'm80-vs-inc-v3kngxwbu5', 'ssg-vs-lg-2lfu9uocrt', 'og-vs-dig-yr0tbgiqxn', 'ggm1-vs-sr-qkrr302trw', 'g2-vs-mst-7649sfeifw', 'sr-vs-snow-lpkz5gcxf5', 'c9-vs-dig-pgyq8ez5hz', 'm80-vs-mst-d5jsbwtvk4', 'lg-vs-nrg-ok47x01w14', 'ssg-vs-sp8-esz7z18f3f', 'og-vs-z2o-5w6chwrmzy', 'ggm1-vs-gbf-7tcrr011gi', 'g2-vs-inct-ud1jm9zn54', 'tsm-vs-dig-ybx1vx3asm', 'snow-vs-sr-kmew2vl9ou', 'lg-vs-c9-82rhlwb64x', 'c9-vs-nac-q71o0nfcps', 'sr-vs-mst-5v2dt20n0s', 'dig-vs-nrg-hlqr4ix4f5', 'g2-vs-tsm-f61yo5wcbh', 'lg-vs-og-z09wqrgr2p', 'ggm1-vs-snow-rq5fb3o8c3', 'nrg-vs-bdw-ig6njfo2k2', 'mst-vs-sp8-gfeewc6t4z', 'og-vs-sr-1sx3g0biws', 'snow-vs-dig-p35bsahbi6', 'tsm-vs-c9-aok1yz59vn', 'g2-vs-nac-et5a8fjeuq', 'lg-vs-ssg-hnr2zp7wma', 'ggm1-vs-m80-jl8l1h66wk', 'sr-vs-nrg-coup4jcy5z', 'mst-vs-nac-mnftlj8xk7', 'dig-vs-sp8-ktmq7967zd', 'c9-vs-bdw-tr4sdiwltv', 'ssg-vs-tsm-jrb7rzerj3', 'lg-vs-snow-aic0r5pyg2', 'ggm1-vs-og-d8aq0u1vuz', 'g2-vs-m80-dv8wb1sm1s', 'snow-vs-mst-nvhygl8q32', 'tsm-vs-sr-7rb1i9kde9', 'm80-vs-c9-jn9bugyytg', 'ssg-vs-nrg-e883a21ael', 'og-vs-dig-psh0oaco4o', 'lg-vs-nac-hhq3iorgt1', 'ggm1-vs-sp8-odf8usmxzp', 'g2-vs-bdw-oapmbt1dtw', 'm80-vs-tsm-kyl11qa631', 'c9-vs-nrg-j40qongx1f', 'ggm1-vs-lg-9lg7mc8l10', 'm80-vs-ssg-q4ky009oli', 'ggm1-vs-og-9z197bk3rs', 'c9-vs-sr-tujpgk3dch', 'lg-vs-mst-kmxxjwwft1', 'nac-vs-tsm-rw7nhw7clb', 'nrg-vs-dxd-n4cpndqu3h', 'dxd-vs-chrs-t7sr85dnd2', 'tsm-vs-cold-ktpl5hfvz3', 'mst-vs-sr-p69sp6q7k6', 'ssg-vs-nrg-1wnkz091ta', 'nac-vs-c9-983mjtie2s', 'og-vs-lg-1byubdic4d', 'ggm1-vs-snow-r6t8tnom6n', 'g2-vs-m80-crvvd3cm36', 'tsm-vs-lg-4tf4vttvdo', 'c9-vs-dxd-tj7p0aq6zc', 'nrg-vs-chrs-i6qnfbbqw5', 'sr-vs-cold-og0c9bz89a', 'og-vs-m80-0qwb5eh388', 'ggm1-vs-mst-4xhdrrfx3i', 'nac-vs-snow-zdawmjq31l', 'g2-vs-ssg-8uyinrh294', 'lg-vs-nac-wyo1f2io4w', 'm80-vs-c9-bdg3zli0rb', 'mst-vs-nrg-uv3u5q0xm0', 'ssg-vs-sr-q9qjajcasd', 'tsm-vs-snow-x16mb5i037', 'og-vs-dxd-fckoa0mrw1', 'ggm1-vs-chrs-9r99zd1nwl', 'g2-vs-cold-wrjzuw9ktl', '966-vs-bvd-sf5a08wxyx', 'atl-vs-r8-o0m6otvdgk', 'jge-vs-roc-cro9cqyl0a', 'g3-vs-roc-luj12zzbh4', 'bvd-vs-twis-vnqevi15e2', 'any-vs-jge-7a905obw96', 'atl-vs-esp-cyu9e86o3a', '966-vs-vsn-oz1clzk1xy', 'int-vs-r8-thku7prl0x', 'esp-vs-roc-809wwznmo2', 'int-vs-job-q3gfnw52g8', 'g3-vs-twis-wocc5gx5jq', 'bvd-vs-rge-uykg663bp8', 'jge-vs-r8-zwpmq3ypq8', 'atl-vs-vsn-asypoj16gv', 'any-vs-flcn-7405j6uy8x', '966-vs-vtr-n5q4sljzri', 'bvd-vs-roc-9sqrwuqqyp', 'g3-vs-job-oncgp4wr8h', 'r8-vs-rge-6ctztzzlxm', 'esp-vs-vtr-bbyi657oit', '966-vs-jge-d4lg0ncawa', 'flcn-vs-twis-vmdzcgcwdl', 'any-vs-vsn-gsxm5qm3yx', 'atl-vs-int-t02btvnjpg', 'int-vs-twis-zs4e60rkm0', 'g3-vs-rge-wdjyd0o410', '966-vs-roc-6yp1zpd5xj', 'bvd-vs-jge-rzxqjeveus', 'any-vs-vtr-3hk8xkqkxf', 'esp-vs-vsn-jan8vunulh', 'atl-vs-flcn-e0ehwvn4jh', 'oreo-vs-twis-zj4ibohf3w', 'roc-vs-slp-50cmx1u2bq', 'esp-vs-rngr-g5138j2g47', 'flcn-vs-roc-f4vgm2nfnf', 'atla-vs-oreo-o842qt4hny', 'esp-vs-nm-k69bkwwok1', 'r8-vs-rngr-hhqvi7yjqw', 'ntnr-vs-slp-6pk4n9hzld', 'twis-vs-vsn-6xau3dctta', 'bvd-vs-r8-3gtqdlkqlp', 'any-vs-twis-0qpn9dajvc', 'atla-vs-flcn-rzl0lxsrd3', 'oreo-vs-vsn-d44r4gz0a6', '404-vs-slp-k67dacg4c3', 'nm-vs-roc-i2fx0sgnv8', 'ntnr-vs-rngr-lt1mj4mfvi', '404-vs-nm-dlwdf80l2n', 'atla-vs-slp-d24kdxydzp', 'any-vs-rngr-5pu391aerc', 'esp-vs-oreo-nbwmy0usuo', 'roc-vs-twis-615bntv7qh', 'r8-vs-vsn-g50bp1on56', 'nrd-vs-ntnr-jfw2qe521l', 'bvd-vs-flcn-v632mf2cyx', 'flcn-vs-nrd-aijv6vlxe1', 'slp-vs-vsn-dbmo0hqaqe', 'r8-vs-atla-ar2dujrg6k', 'bvd-vs-ntnr-0hcgz03gne', '404-vs-any-ox9645f266', 'nm-vs-rngr-8a54u5i9tw', 'esp-vs-twis-f2jni0pyf2', 'oreo-vs-roc-5apn8fb0x7']\n"
     ]
    }
   ],
   "source": [
    "print(group_id_list)"
   ]
  }
 ],
 "metadata": {
  "kernelspec": {
   "display_name": ".venv",
   "language": "python",
   "name": "python3"
  },
  "language_info": {
   "codemirror_mode": {
    "name": "ipython",
    "version": 3
   },
   "file_extension": ".py",
   "mimetype": "text/x-python",
   "name": "python",
   "nbconvert_exporter": "python",
   "pygments_lexer": "ipython3",
   "version": "3.11.4"
  }
 },
 "nbformat": 4,
 "nbformat_minor": 2
}
